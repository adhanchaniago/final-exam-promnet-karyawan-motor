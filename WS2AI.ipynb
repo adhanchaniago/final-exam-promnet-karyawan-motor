{
  "nbformat": 4,
  "nbformat_minor": 0,
  "metadata": {
    "colab": {
      "name": "WS2AI.ipynb",
      "provenance": [],
      "collapsed_sections": [],
      "authorship_tag": "ABX9TyNJeLRIEdtcpbx7kCkYhKwI",
      "include_colab_link": true
    },
    "kernelspec": {
      "name": "python3",
      "display_name": "Python 3"
    }
  },
  "cells": [
    {
      "cell_type": "markdown",
      "metadata": {
        "id": "view-in-github",
        "colab_type": "text"
      },
      "source": [
        "<a href=\"https://colab.research.google.com/github/wibisuhendra/1703204-Wibi-UASPromnet/blob/master/WS2AI.ipynb\" target=\"_parent\"><img src=\"https://colab.research.google.com/assets/colab-badge.svg\" alt=\"Open In Colab\"/></a>"
      ]
    },
    {
      "cell_type": "code",
      "metadata": {
        "id": "qF8SQ4E6JijP",
        "colab_type": "code",
        "colab": {}
      },
      "source": [
        "import queue as qw\n",
        "import sys\n",
        "\n",
        "graph = {\n",
        "    \"Arad\" : {\"Zerind\":75,\"Timisoara\":118,\"Sibiu\":140},\n",
        "    \"Zerind\": {\"Oradea\" : 71, \"Arad\": 75},\n",
        "    \"Timisoara\" : {\"Arad\": 118, \"Lugoj\" : 111},\n",
        "    \"Sibiu\": {\"Arad\": 140, \"Oradea\" : 151, \"Fagaras\" : 99, \"RimnicuVilcea\" : 80},\n",
        "    \"Oradea\" : {\"Zerind\": 71, \"Sibiu\": 151},\n",
        "    \"Lugoj\" : {\"Timisoara\" : 111, \"Mehadia\" : 70},\n",
        "    \"RimnicuVilcea\" : {\"Sibiu\": 80, \"Pitesti\": 97, \"Craiova\" : 146},\n",
        "    \"Mehadia\" : {\"Lugoj\" : 70, \"Dobreta\" : 75},\n",
        "    \"Craiova\" : {\"Dobreta\" : 120, \"RimnicuVilcea\" : 146, \"Pitesti\": 138},\n",
        "    \"Pitesti\": {\"RimnicuVilcea\" : 97, \"Craiova\" : 138, \"Bucharest\" : 101},\n",
        "    \"Fagaras\" : {\"Sibiu\": 99, \"Bucharest\" : 211},\n",
        "    \"Dobreta\" : {\"Mehadia\" : 75, \"Craiova\" : 120},\n",
        "    \"Bucharest\" : {\"Fagaras\" : 211, \"Pitesti\": 101, \"Giurgiu\": 90},\n",
        "    \"Giurgiu\": {\"Bucharest\" : 90},\n",
        "}\n",
        "\n",
        "current = qw.PriorityQueue()\n"
      ],
      "execution_count": 0,
      "outputs": []
    },
    {
      "cell_type": "code",
      "metadata": {
        "id": "EaMA647HOMHu",
        "colab_type": "code",
        "outputId": "f0946acc-718a-42a1-d794-b8dd8db383b9",
        "colab": {
          "base_uri": "https://localhost:8080/",
          "height": 34
        }
      },
      "source": [
        "def isGoal(current,goal):\n",
        "  return current == goal\n",
        "\n",
        "def UCS(grp,start,goal):\n",
        "  fringe = qw.PriorityQueue()\n",
        "  fringe.put((0,0,start))\n",
        "  visited = []\n",
        "  pred = {}\n",
        "  total = 0\n",
        "  path = {}\n",
        "  path[1] = start\n",
        "  while len(fringe.queue)>0:\n",
        "    current = fringe.get()\n",
        "    cur_jarak = current[0]\n",
        "    pred[current[2]] =current[1]\n",
        "    if current[2] not in visited:\n",
        "      visited.append(current[2])\n",
        "      path[current[1]] = current[2]\n",
        "      for tetangga,jarak in grp[current[2]].items(): \n",
        "        if tetangga not in visited:\n",
        "          fringe.put((cur_jarak + jarak,current[2],tetangga))\n",
        "    if isGoal(current[2],goal):\n",
        "      return (True,pred,cur_jarak)\n",
        "      \n",
        "    \n",
        "\n",
        "  return (False,())\n",
        "      \n",
        "\n",
        "initial = \"Oradea\"\n",
        "g=\"Lugoj\"\n",
        "cek,pred,cost= UCS(graph,initial,g)\n",
        "\n",
        "def getRoute(start,goal,preds):\n",
        "  cur = preds[goal]\n",
        "  temp = []\n",
        "  temp.append(goal)\n",
        "  while cur != start:\n",
        "    temp.append(cur)\n",
        "    cur = preds[cur]\n",
        "  \n",
        "  temp.append(start)\n",
        "  temp.reverse()\n",
        "  return temp\n",
        "\n",
        "rute = getRoute(initial,g,pred)\n",
        "\n",
        "print(\"Jalur : \"+str(rute)+\", Jarak : \"+str(cost))"
      ],
      "execution_count": 100,
      "outputs": [
        {
          "output_type": "stream",
          "text": [
            "Jalur : ['Oradea', 'Zerind', 'Arad', 'Timisoara', 'Lugoj'], Jarak : 375\n"
          ],
          "name": "stdout"
        }
      ]
    },
    {
      "cell_type": "code",
      "metadata": {
        "id": "9kTRc-bfeRtB",
        "colab_type": "code",
        "colab": {}
      },
      "source": [
        ""
      ],
      "execution_count": 0,
      "outputs": []
    }
  ]
}